{
 "cells": [
  {
   "cell_type": "markdown",
   "metadata": {
    "collapsed": true
   },
   "source": [
    "Python provides a special syntax to define mini-function on the fly, which is called __lambda__ functions."
   ]
  },
  {
   "cell_type": "code",
   "execution_count": 1,
   "metadata": {},
   "outputs": [
    {
     "name": "stdout",
     "output_type": "stream",
     "text": [
      "6\n"
     ]
    }
   ],
   "source": [
    "g = lambda x:x+3\n",
    "print g(3)"
   ]
  },
  {
   "cell_type": "markdown",
   "metadata": {},
   "source": [
    "Lambda functions take an arbitrary number of arguments as input and output the value of a single expression. There is analgous method in objective-C called __blocks__. Both of them borrowed the idea from Lisp lambda."
   ]
  },
  {
   "cell_type": "markdown",
   "metadata": {},
   "source": [
    "We can use lambda and and-or trick to create a selective string-collapse function as follows (same as boolean?A:B expression in C):"
   ]
  },
  {
   "cell_type": "code",
   "execution_count": 5,
   "metadata": {},
   "outputs": [
    {
     "name": "stdout",
     "output_type": "stream",
     "text": [
      "Hello World!\nHello     World!\n"
     ]
    }
   ],
   "source": [
    "collapse = True\n",
    "process_func = collapse and (lambda s: \" \".join(s.split())) or (lambda s:s)\n",
    "print process_func(\"Hello     World!\")\n",
    "\n",
    "collapse = False\n",
    "process_func = collapse and (lambda s: \" \".join(s.split())) or (lambda s:s)\n",
    "print process_func(\"Hello     World!\")"
   ]
  }
 ],
 "metadata": {
  "kernelspec": {
   "display_name": "Python 2",
   "language": "python",
   "name": "python2"
  },
  "language_info": {
   "codemirror_mode": {
    "name": "ipython",
    "version": 2.0
   },
   "file_extension": ".py",
   "mimetype": "text/x-python",
   "name": "python",
   "nbconvert_exporter": "python",
   "pygments_lexer": "ipython2",
   "version": "2.7.6"
  }
 },
 "nbformat": 4,
 "nbformat_minor": 0
}