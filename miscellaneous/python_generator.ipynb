{
 "cells": [
  {
   "cell_type": "markdown",
   "metadata": {
    "collapsed": true
   },
   "source": [
    "A __genertor__ function, which acts as an iterator, provides memory-efficient way to generate a large sequence of data, such as an array with size of 100,000. We have 3 different methods to invoke generators in Python."
   ]
  },
  {
   "cell_type": "markdown",
   "metadata": {},
   "source": [
    "* use __yield__"
   ]
  },
  {
   "cell_type": "code",
   "execution_count": 8,
   "metadata": {
    "collapsed": false
   },
   "outputs": [
    {
     "name": "stdout",
     "output_type": "stream",
     "text": [
      "499999500000\n"
     ]
    }
   ],
   "source": [
    "def firstn(n):\n",
    "    num = 0\n",
    "    while num < n:\n",
    "        yield num\n",
    "        num += 1\n",
    "        \n",
    "print(sum(firstn(1000000)))"
   ]
  },
  {
   "cell_type": "markdown",
   "metadata": {},
   "source": [
    "* use build-in generator functions, such as xrange()"
   ]
  },
  {
   "cell_type": "markdown",
   "metadata": {},
   "source": [
    "* we can also do generator comprehension."
   ]
  },
  {
   "cell_type": "code",
   "execution_count": 10,
   "metadata": {
    "collapsed": false
   },
   "outputs": [
    {
     "name": "stdout",
     "output_type": "stream",
     "text": [
      "2\n"
     ]
    }
   ],
   "source": [
    "y = (x*2 for x in [1,2,3,4,5])\n",
    "print y.next()"
   ]
  },
  {
   "cell_type": "markdown",
   "metadata": {},
   "source": [
    "To implement a __iterator__, we have to define a class with two specific functions: 1) \\_\\_iter\\_\\_ method that returns a iterator (self); 2) next method to generate next instance when the iterator is called in the for loop. "
   ]
  },
  {
   "cell_type": "code",
   "execution_count": 3,
   "metadata": {
    "collapsed": false
   },
   "outputs": [
    {
     "name": "stdout",
     "output_type": "stream",
     "text": [
      "0.383538446634\n",
      "0.890320655611\n",
      "0.440146898917\n",
      "0.870770177206\n",
      "0.254437490207\n",
      "0.815695129332\n",
      "0.193317108258\n",
      "0.941581533152\n",
      "0.527148315011\n",
      "0.95593994999\n",
      "0.276660639832\n",
      "0.738954693986\n",
      "0.0527577562047\n"
     ]
    }
   ],
   "source": [
    "import random\n",
    "\n",
    "class randomwalker_iter:\n",
    "    def __init__(self):\n",
    "        self.last = 1\n",
    "        self.rand = random.random()\n",
    "        \n",
    "    def __iter__(self):\n",
    "        return self\n",
    "    \n",
    "    def next(self):\n",
    "        if self.rand < 0.1:\n",
    "            raise StopIteration\n",
    "        else:\n",
    "            while abs(self.rand - self.last) < 0.4:\n",
    "                self.rand = random.random()\n",
    "            self.last = self.rand\n",
    "            return self.rand\n",
    "        \n",
    "rw = randomwalker_iter()\n",
    "for rw_instance in rw:\n",
    "    print rw_instance"
   ]
  }
 ],
 "metadata": {
  "kernelspec": {
   "display_name": "Python 2",
   "language": "python",
   "name": "python2"
  },
  "language_info": {
   "codemirror_mode": {
    "name": "ipython",
    "version": 2
   },
   "file_extension": ".py",
   "mimetype": "text/x-python",
   "name": "python",
   "nbconvert_exporter": "python",
   "pygments_lexer": "ipython2",
   "version": "2.7.10"
  }
 },
 "nbformat": 4,
 "nbformat_minor": 0
}
