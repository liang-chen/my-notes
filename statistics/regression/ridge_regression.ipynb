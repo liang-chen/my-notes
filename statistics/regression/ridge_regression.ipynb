{
 "cells": [
  {
   "cell_type": "markdown",
   "metadata": {},
   "source": [
    "#Ridge Regression"
   ]
  },
  {
   "cell_type": "markdown",
   "metadata": {},
   "source": [
    "Given dataset $$S = \\{(X_1, Y_1), (X_2, Y_2), ..., (X_n, Y_N)\\}$$ we want to solve the Tikhonov minimization problem with square loss:\n",
    "\n",
    "$$min\\frac{1}{2}\\sum\\limits_{i=1}^n(f(X_i)-Y_i)^2 + \\frac{\\lambda}{2}||f||_k^2$$ where f is the regression function. According to [representer theorem](http://alex.smola.org/papers/2001/SchHerSmo01.pdf), the solution can be written as:\n",
    "\n",
    "$$f = \\sum\\limits_{i=1}^nc_ik(X_i,\\cdot)$$\n",
    "\n",
    "So the formulation can be rewritten as $$min\\frac{1}{2}\\sum\\limits_{i=1}^n(Y-Kc)^2 + \\frac{\\lambda}{2}c^tKc$$ K is the kernel matrix whose j-th element on i-th row is $k(X_i, X_j)$.\n",
    "\n",
    "The closed-form solution to this minimization problem is given as $c^* = (K+\\lambda I)^{-1}Y$. When we have a new piece of data $X^*$, the model will predict the output via $f(X^*) = \\sum ck(X_i,X^*) = Y^t(K+\\lambda I)^{-1}k(X,X^*)$.\n",
    "\n",
    "Solving the inverse of a matrix is computationally expensive. Alternatively we try to perform eigendecomposition of $K$ first and use the decomposed matrix to calculate $c$.\n",
    "\n",
    "Suppose $G = K + \\lambda I$, and the eigendecomposition of $K$ can be written as $Q\\Lambda Q^t$ where $Q$ is a orthogonal matrix, and $\\Lambda$ is diagonal. The decomposition takes $O(n^3)$ time. The inverse can be easily solved after eigendecomposition, and $c^* = Q(\\Lambda^{-1}+\\lambda I)Q^tY$.\n",
    "\n",
    "\n",
    "A special case is when we use linear kernel, the problem reduces to linear regression plus an extra L-2 norm regularizer. In this case the regression function becomes a dot product between weights $w$ and new data $X^*$, where $w = (X^tX + \\lambda I)^{-1}X^tY$. "
   ]
  },
  {
   "cell_type": "markdown",
   "metadata": {},
   "source": [
    "A common approach to find out good penalty parameter $\\lambda$ is to apply cross validation. In practice we either define validation sets (when data is enormous) or use **leave-one-out** (when training set is small) to perform CV."
   ]
  },
  {
   "cell_type": "code",
   "execution_count": 94,
   "metadata": {},
   "outputs": [],
   "source": [
    "%matplotlib inline\n",
    "import matplotlib\n",
    "import matplotlib.pyplot as plt\n",
    "from sklearn.datasets import load_boston\n",
    "import numpy as np\n",
    "from sklearn.preprocessing import RobustScaler\n",
    "\n",
    "boston = load_boston()\n",
    "\n",
    "X = boston.data\n",
    "\n",
    "##split training, validation and testing set. only use one validation set (not CV) just to demonstrate the idea\n",
    "boston_X_train = X[:-250]\n",
    "boston_X_val = X[-250:-100]\n",
    "boston_X_test = X[-100:]\n",
    "\n",
    "boston_Y_train = boston.target[:-250]\n",
    "boston_Y_val = boston.target[-250:-100]\n",
    "boston_Y_test = boston.target[-100:]"
   ]
  },
  {
   "cell_type": "code",
   "execution_count": 95,
   "metadata": {},
   "outputs": [],
   "source": [
    "###fit model using training data\n",
    "alpha = 1.0\n",
    "U, s, Vt = np.linalg.svd(boston_X_train, full_matrices=False)\n",
    "temp = np.diag(s/(s*s+alpha))\n",
    "w = np.dot(np.dot(np.transpose(Vt), np.dot(temp, np.transpose(U))), boston_Y_train)"
   ]
  },
  {
   "cell_type": "code",
   "execution_count": 96,
   "metadata": {},
   "outputs": [
    {
     "name": "stdout",
     "output_type": "stream",
     "text": [
      "128.254245632\n"
     ]
    }
   ],
   "source": [
    "predicts = np.dot(boston_X_test, w)\n",
    "print np.mean((predicts - boston_Y_test) ** 2)"
   ]
  },
  {
   "cell_type": "code",
   "execution_count": 97,
   "metadata": {},
   "outputs": [
    {
     "data": {
      "text/plain": [
       "<matplotlib.collections.PathCollection at 0x10c36b8d0>"
      ]
     },
     "execution_count": 97,
     "metadata": {},
     "output_type": "execute_result"
    },
    {
     "data": {
      "image/png": "[encoded data removed]",
      "text/plain": [
       "<matplotlib.figure.Figure at 0x10c165c50>"
      ]
     },
     "metadata": {},
     "output_type": "display_data"
    }
   ],
   "source": [
    "# Plot outputs\n",
    "plt.scatter(range(len(boston_Y_test)), boston_Y_test,  color='black')\n",
    "plt.scatter(range(len(predicts)), predicts,  color='red')"
   ]
  },
  {
   "cell_type": "code",
   "execution_count": 98,
   "metadata": {},
   "outputs": [
    {
     "name": "stdout",
     "output_type": "stream",
     "text": [
      "validation error is  347.939901981  when alpha is  0.01\nvalidation error is  342.821678984  when alpha is  0.02\nvalidation error is  333.087470488  when alpha is  0.04\nvalidation error is  315.427301925  when alpha is  0.08\nvalidation error is  286.031981616  when alpha is  0.16\nvalidation error is  243.744549481  when alpha is  0.32\nvalidation error is  194.890426535  when alpha is  0.64\nvalidation error is  152.294130171  when alpha is  1.28\nvalidation error is  125.273670565  when alpha is  2.56\nvalidation error is  114.792173635  when alpha is  5.12\nvalidation error is  114.792173635  when alpha is  10.24\nvalidation error is  114.792173635  when alpha is  20.48\nvalidation error is  114.792173635  when alpha is  40.96\nvalidation error is  114.792173635  when alpha is  81.92\nvalidation error is  114.792173635  when alpha is  163.84\nvalidation error is  114.792173635  when alpha is  327.68\nvalidation error is  107.444029409  when alpha is  655.36\nvalidation error is  89.4185714182  when alpha is  1310.72\nvalidation error is  82.7122227069  when alpha is  2621.44\nvalidation error is  82.7122227069  when alpha is  5242.88\nbest regularization parameter is:  2621.44\n"
     ]
    }
   ],
   "source": [
    "alpha = 0.01\n",
    "U, s, Vt = np.linalg.svd(boston_X_train, full_matrices=False)\n",
    "alpha_opt = alpha\n",
    "val_cost = np.inf\n",
    "while alpha <= 10000:\n",
    "    temp = np.diag(s/(s*s+alpha))\n",
    "    w = np.dot(np.dot(np.transpose(Vt), np.dot(temp, np.transpose(U))), boston_Y_train)\n",
    "    predicts = np.dot(boston_X_val, w)\n",
    "    new_val_cost = np.mean((predicts - boston_Y_val) ** 2)\n",
    "    if new_val_cost < val_cost:\n",
    "        val_cost = new_val_cost\n",
    "        alpha_opt = alpha\n",
    "        \n",
    "    print \"validation error is \", val_cost, \" when alpha is \", alpha\n",
    "    alpha *= 2\n",
    "\n",
    "print \"best regularization parameter is: \", alpha_opt"
   ]
  },
  {
   "cell_type": "markdown",
   "metadata": {
    "collapsed": true
   },
   "source": [
    "Reference: [technical report](http://cbcl.mit.edu/projects/cbcl/publications/ps/MIT-CSAIL-TR-2007-025.pdf)"
   ]
  }
 ],
 "metadata": {
  "kernelspec": {
   "display_name": "Python 2",
   "language": "python",
   "name": "python2"
  },
  "language_info": {
   "codemirror_mode": {
    "name": "ipython",
    "version": 2.0
   },
   "file_extension": ".py",
   "mimetype": "text/x-python",
   "name": "python",
   "nbconvert_exporter": "python",
   "pygments_lexer": "ipython2",
   "version": "2.7.6"
  }
 },
 "nbformat": 4,
 "nbformat_minor": 0
}