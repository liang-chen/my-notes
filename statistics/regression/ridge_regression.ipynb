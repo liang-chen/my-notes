{
 "cells": [
  {
   "cell_type": "markdown",
   "metadata": {},
   "source": [
    "#Ridge Regression"
   ]
  },
  {
   "cell_type": "markdown",
   "metadata": {},
   "source": [
    "Given dataset $$S = \\{(X_1, Y_1), (X_2, Y_2), ..., (X_n, Y_N)\\}$$ we want to solve the Tikhonov minimization problem with square loss:\n",
    "\n",
    "$$min\\frac{1}{2}\\sum\\limits_{i=1}^n(f(X_i)-Y_i)^2 + \\frac{\\lambda}{2}||f||_k^2$$ where f is the regression function. According to [representer theorem](http://alex.smola.org/papers/2001/SchHerSmo01.pdf), the solution can be written as:\n",
    "\n",
    "$$f = \\sum\\limits_{i=1}^nc_ik(X_i,\\cdot)$$\n",
    "\n",
    "So the formulation can be rewritten as $$min\\frac{1}{2}\\sum\\limits_{i=1}^n(Y-Kc)^2 + \\frac{\\lambda}{2}c^tKc$$ K is the kernel matrix whose j-th element on i-th row is $k(X_i, X_j)$.\n",
    "\n",
    "The closed-form solution to this minimization problem is given as $c^* = (K+\\lambda I)^{-1}Y$. Given a new piece of data $X^*$, the model will predict the output via $f(X^*) = \\sum ck(X_i,X^*) = Y^t(K+\\lambda I)^{-1}k(X,X^*)$."
   ]
  },
  {
   "cell_type": "markdown",
   "metadata": {},
   "source": [
    "To find a good $\\lambda$, we usually apply cross validation."
   ]
  },
  {
   "cell_type": "code",
   "execution_count": 10,
   "metadata": {},
   "outputs": [
    {
     "name": "stdout",
     "output_type": "stream",
     "text": [
      "13\n"
     ]
    }
   ],
   "source": [
    "from sklearn.datasets import load_boston\n",
    "boston = load_boston()\n",
    "print len(boston.data[0])"
   ]
  },
  {
   "cell_type": "code",
   "execution_count": 7,
   "metadata": {},
   "outputs": [
    {
     "name": "stdout",
     "output_type": "stream",
     "text": [
      "24.0\n"
     ]
    }
   ],
   "source": [
    "print boston.target[0]"
   ]
  },
  {
   "cell_type": "code",
   "execution_count": null,
   "metadata": {},
   "outputs": [],
   "source": [
    ""
   ]
  },
  {
   "cell_type": "code",
   "execution_count": null,
   "metadata": {
    "collapsed": true
   },
   "outputs": [],
   "source": [
    "%matplotlib inline\n",
    "import matplotlib\n",
    "import numpy as np\n",
    "import matplotlib.pyplot as plt"
   ]
  }
 ],
 "metadata": {
  "kernelspec": {
   "display_name": "Python 2",
   "language": "python",
   "name": "python2"
  },
  "language_info": {
   "codemirror_mode": {
    "name": "ipython",
    "version": 2.0
   },
   "file_extension": ".py",
   "mimetype": "text/x-python",
   "name": "python",
   "nbconvert_exporter": "python",
   "pygments_lexer": "ipython2",
   "version": "2.7.6"
  }
 },
 "nbformat": 4,
 "nbformat_minor": 0
}